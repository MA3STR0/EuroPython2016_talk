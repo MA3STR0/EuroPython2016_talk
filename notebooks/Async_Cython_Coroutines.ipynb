{
 "cells": [
  {
   "cell_type": "markdown",
   "metadata": {
    "slideshow": {
     "slide_type": "slide"
    }
   },
   "source": [
    "# Fast Async Code with Cython and AsyncIO\n",
    "\n",
    "_by Stefan Behnel & Anton Caceres_"
   ]
  },
  {
   "cell_type": "markdown",
   "metadata": {
    "slideshow": {
     "slide_type": "slide"
    }
   },
   "source": [
    "Stefan  (<stb@skoobe.de>)\n",
    "-  Python developer since 2002\n",
    "-  Cython core developer, main developer of lxml\n",
    "\n",
    "Anton  (<ac@skoobe.de>)\n",
    "-  Python developer since 2010\n",
    "-  Organiser of PyCon-DE 2016 (this October!)"
   ]
  },
  {
   "cell_type": "markdown",
   "metadata": {
    "slideshow": {
     "slide_type": "subslide"
    }
   },
   "source": [
    "Skoobe\n",
    "-------\n",
    "\n",
    "* eBook subscription service\n",
    "* 180 000+ books for 9.99€ / month\n",
    "* Android, iOS apps - 5 stars\n",
    "* Python based backend\n",
    "\n",
    "![Alt text](https://staging-cdn.skoobe.net/static/v/12a6f0753eb3c5edbda7861ad83d6593873f4a2a244fc452f5e5d7cf82cb186e.jpg)"
   ]
  },
  {
   "cell_type": "markdown",
   "metadata": {
    "slideshow": {
     "slide_type": "subslide"
    }
   },
   "source": [
    "## What to expect from this talk\n",
    "\n",
    "* Introduction to AsyncIO\n",
    "* Introduction to Cython\n",
    "* Async Cython coroutines\n",
    "* Practical examples"
   ]
  },
  {
   "cell_type": "markdown",
   "metadata": {
    "collapsed": true,
    "slideshow": {
     "slide_type": "slide"
    }
   },
   "source": [
    "AsyncIO\n",
    "-------\n",
    "\n",
    "* Module for writing async code with high concurrency\n",
    "* Infrastructure for writing single-threaded concurrent code using coroutines\n",
    "* Runs on Python 3.3+, backport to Py2 available"
   ]
  },
  {
   "cell_type": "markdown",
   "metadata": {
    "slideshow": {
     "slide_type": "subslide"
    }
   },
   "source": [
    "### Features:\n",
    "\n",
    "* event loop with system-specific implementations\n",
    "* Future class, similar to concurrent.futures\n",
    "* coroutines and tasks based on yield from"
   ]
  },
  {
   "cell_type": "markdown",
   "metadata": {
    "slideshow": {
     "slide_type": "subslide"
    }
   },
   "source": [
    "### Coroutines\n",
    "\n",
    "* based on generators using yield from (PEP 380)\n",
    "* marked by @asyncio.coroutine or `async def` syntax (PEP 492)\n",
    "* can be suspended, allowing the event loop to get on with other things"
   ]
  },
  {
   "cell_type": "markdown",
   "metadata": {
    "slideshow": {
     "slide_type": "slide"
    }
   },
   "source": [
    "## AsyncIO in 5 Minutes"
   ]
  },
  {
   "cell_type": "markdown",
   "metadata": {
    "slideshow": {
     "slide_type": "slide"
    }
   },
   "source": [
    "Cython\n",
    "------\n",
    "\n",
    "* Most widely used static Python compiler\n",
    "* Outputs C code using the CPython C-API\n",
    "* Extends Python language for optimisation and C/C++ interaction\n",
    "* Open-source: cython.org / github"
   ]
  },
  {
   "cell_type": "markdown",
   "metadata": {},
   "source": [
    "### Features:\n",
    "* static code optimisation\n",
    "* fast extensions for CPython (2.6 - 3.6+)\n",
    "* widely used in Scientific Python ecosystem"
   ]
  },
  {
   "cell_type": "markdown",
   "metadata": {
    "slideshow": {
     "slide_type": "subslide"
    }
   },
   "source": [
    "-  Cython syntax generally follows Python 2.7\n",
    "\n",
    "   -  plus all from Py3 that doesn't conflict\n",
    "\n",
    "-  Switch to full Python 3 syntax/semantics by directive:\n",
    "\n",
    "   `# cython: language_level=3`\n",
    "\n",
    "-  Supports PEP 492 coroutines with async/await\n",
    "\n",
    "   -  slower in Py2.6/7 than in Py3"
   ]
  },
  {
   "cell_type": "markdown",
   "metadata": {
    "slideshow": {
     "slide_type": "slide"
    }
   },
   "source": [
    "## Cython in 10 Minutes"
   ]
  },
  {
   "cell_type": "markdown",
   "metadata": {
    "slideshow": {
     "slide_type": "subslide"
    }
   },
   "source": [
    "# Async Cython Coroutines with Python 3.5"
   ]
  },
  {
   "cell_type": "code",
   "execution_count": null,
   "metadata": {
    "collapsed": false,
    "slideshow": {
     "slide_type": "fragment"
    }
   },
   "outputs": [],
   "source": [
    "%load_ext cython"
   ]
  },
  {
   "cell_type": "code",
   "execution_count": null,
   "metadata": {
    "collapsed": false,
    "slideshow": {
     "slide_type": "-"
    }
   },
   "outputs": [],
   "source": [
    "import asyncio"
   ]
  },
  {
   "cell_type": "code",
   "execution_count": null,
   "metadata": {
    "collapsed": false,
    "slideshow": {
     "slide_type": "fragment"
    }
   },
   "outputs": [],
   "source": [
    "def run_async(coro):\n",
    "    loop = asyncio.get_event_loop()\n",
    "    result = loop.run_until_complete(coro)\n",
    "    return result"
   ]
  },
  {
   "cell_type": "markdown",
   "metadata": {
    "slideshow": {
     "slide_type": "slide"
    }
   },
   "source": [
    "## Cython coroutines are fully compatible with asyncio and Python coroutines"
   ]
  },
  {
   "cell_type": "code",
   "execution_count": null,
   "metadata": {
    "collapsed": false,
    "slideshow": {
     "slide_type": "fragment"
    }
   },
   "outputs": [],
   "source": [
    "%%cython\n",
    "# cython: language_level = 3\n",
    "\n",
    "async def add_one(fut):\n",
    "    result = await fut\n",
    "    print(\"Cy-ADD:\", result)\n",
    "    return result + 1\n",
    "\n",
    "async def one():\n",
    "    return 1"
   ]
  },
  {
   "cell_type": "code",
   "execution_count": null,
   "metadata": {
    "collapsed": false,
    "slideshow": {
     "slide_type": "fragment"
    }
   },
   "outputs": [],
   "source": [
    "run_async(add_one(add_one(one())))"
   ]
  },
  {
   "cell_type": "code",
   "execution_count": null,
   "metadata": {
    "collapsed": true,
    "slideshow": {
     "slide_type": "subslide"
    }
   },
   "outputs": [],
   "source": [
    "async def py_add_one(fut):\n",
    "    result = await fut\n",
    "    print(\"Py-ADD:\", result)\n",
    "    return result + 1"
   ]
  },
  {
   "cell_type": "code",
   "execution_count": null,
   "metadata": {
    "collapsed": false,
    "slideshow": {
     "slide_type": "fragment"
    }
   },
   "outputs": [],
   "source": [
    "run_async(add_one(py_add_one(one())))"
   ]
  },
  {
   "cell_type": "markdown",
   "metadata": {
    "slideshow": {
     "slide_type": "slide"
    }
   },
   "source": [
    "## Let's play some ping-pong\n",
    "-  one async Python function prints \"ping\"\n",
    "-  one async Cython function prints \"pong\"\n",
    "-  jump between the two"
   ]
  },
  {
   "cell_type": "code",
   "execution_count": null,
   "metadata": {
    "collapsed": false,
    "slideshow": {
     "slide_type": "subslide"
    }
   },
   "outputs": [],
   "source": [
    "%%cython\n",
    "\n",
    "# example coro_map: {0: cy_dec1, 1: cy_dec1}\n",
    "\n",
    "async def cy_dec1(coro_map, value, show=False):\n",
    "    if show:\n",
    "        print('pong')\n",
    "    if value > 0:\n",
    "        value = await coro_map[value % 2](coro_map, value - 1, show)\n",
    "    return value"
   ]
  },
  {
   "cell_type": "code",
   "execution_count": null,
   "metadata": {
    "collapsed": true,
    "slideshow": {
     "slide_type": "subslide"
    }
   },
   "outputs": [],
   "source": [
    "# example coro_map: {0: py_dec1, 1: py_dec1}\n",
    "\n",
    "async def py_dec1(coro_map, value, show=False):\n",
    "    if show:\n",
    "        print('ping')\n",
    "    if value > 0:\n",
    "        value = await coro_map[value % 2](coro_map, value - 1, show)\n",
    "    return value"
   ]
  },
  {
   "cell_type": "code",
   "execution_count": null,
   "metadata": {
    "collapsed": false,
    "slideshow": {
     "slide_type": "fragment"
    }
   },
   "outputs": [],
   "source": [
    "run_async(py_dec1({0: cy_dec1, 1: py_dec1}, 6, show=True))"
   ]
  },
  {
   "cell_type": "markdown",
   "metadata": {
    "slideshow": {
     "slide_type": "slide"
    }
   },
   "source": [
    "## How fast are Cython coroutines?"
   ]
  },
  {
   "cell_type": "code",
   "execution_count": null,
   "metadata": {
    "collapsed": false,
    "slideshow": {
     "slide_type": "fragment"
    }
   },
   "outputs": [],
   "source": [
    "%timeit run_async(py_dec1({0: py_dec1, 1: py_dec1}, 600)) # python-only"
   ]
  },
  {
   "cell_type": "code",
   "execution_count": null,
   "metadata": {
    "collapsed": false,
    "slideshow": {
     "slide_type": "fragment"
    }
   },
   "outputs": [],
   "source": [
    "%timeit run_async(cy_dec1({0: cy_dec1, 1: cy_dec1}, 600)) # cython-only"
   ]
  },
  {
   "cell_type": "code",
   "execution_count": null,
   "metadata": {
    "collapsed": false,
    "slideshow": {
     "slide_type": "fragment"
    }
   },
   "outputs": [],
   "source": [
    "%timeit run_async(py_dec1({0: cy_dec1, 1: py_dec1}, 600)) # alternate"
   ]
  },
  {
   "cell_type": "markdown",
   "metadata": {
    "slideshow": {
     "slide_type": "slide"
    }
   },
   "source": [
    "## -> explain why I/O applications can reduce latency with faster processing intervals"
   ]
  },
  {
   "cell_type": "markdown",
   "metadata": {
    "slideshow": {
     "slide_type": "slide"
    }
   },
   "source": [
    "## -> show an example where we receive little data and do a lot of processing on it"
   ]
  },
  {
   "cell_type": "markdown",
   "metadata": {
    "slideshow": {
     "slide_type": "slide"
    }
   },
   "source": [
    "# Practical Example: Decryption Server"
   ]
  },
  {
   "cell_type": "markdown",
   "metadata": {
    "slideshow": {
     "slide_type": "subslide"
    }
   },
   "source": [
    "### Simple setup where client sends encrypted data stream to the server\n",
    "\n",
    "![Alt text](http://i.imgur.com/8NB5zVe.jpg)"
   ]
  },
  {
   "cell_type": "markdown",
   "metadata": {
    "slideshow": {
     "slide_type": "subslide"
    }
   },
   "source": [
    "## _Decryption Server: code_\n",
    "_(another notebook)_"
   ]
  },
  {
   "cell_type": "markdown",
   "metadata": {},
   "source": [
    "## Thank you!\n",
    "\n",
    "### Questions?\n",
    "\n",
    "_Stefan: stb@skoobe.de, Anton: ac@skoobe.de_"
   ]
  },
  {
   "cell_type": "code",
   "execution_count": null,
   "metadata": {
    "collapsed": true
   },
   "outputs": [],
   "source": []
  }
 ],
 "metadata": {
  "celltoolbar": "Slideshow",
  "kernelspec": {
   "display_name": "Python 3",
   "language": "python",
   "name": "python3"
  },
  "language_info": {
   "codemirror_mode": {
    "name": "ipython",
    "version": 3
   },
   "file_extension": ".py",
   "mimetype": "text/x-python",
   "name": "python",
   "nbconvert_exporter": "python",
   "pygments_lexer": "ipython3",
   "version": "3.5.1"
  }
 },
 "nbformat": 4,
 "nbformat_minor": 0
}
