{
 "cells": [
  {
   "cell_type": "markdown",
   "metadata": {
    "slideshow": {
     "slide_type": "slide"
    }
   },
   "source": [
    "# Fast Async Code with Cython and AsyncIO\n",
    "\n",
    "_by Stefan Behnel & Anton Caceres_"
   ]
  },
  {
   "cell_type": "markdown",
   "metadata": {
    "slideshow": {
     "slide_type": "slide"
    }
   },
   "source": [
    "Stefan  (<stb@skoobe.de>)\n",
    "-  Python developer since 2002\n",
    "-  Cython core developer, main developer of lxml\n",
    "\n",
    "Anton  (<ac@skoobe.de>)\n",
    "-  Python developer since 2010\n",
    "-  Organiser of PyCon-DE 2016 (this October!)"
   ]
  },
  {
   "cell_type": "markdown",
   "metadata": {
    "slideshow": {
     "slide_type": "subslide"
    }
   },
   "source": [
    "Skoobe\n",
    "-------\n",
    "\n",
    "* eBook subscription service since 2012\n",
    "* leading offer in Germany, available worldwide\n",
    "* ~200 000 books for 9.99€ / month\n",
    "* Android, iOS apps - 5 stars\n",
    "* Python based backend\n",
    "* young and fascinating place to work\n",
    "\n",
    "![Alt text](images/skoobe.jpg)"
   ]
  },
  {
   "cell_type": "markdown",
   "metadata": {
    "slideshow": {
     "slide_type": "subslide"
    }
   },
   "source": [
    "## What to expect from this talk\n",
    "\n",
    "* Introduction to AsyncIO\n",
    "* Introduction to Cython\n",
    "* Async coroutines with Cython\n",
    "* Practical examples"
   ]
  },
  {
   "cell_type": "markdown",
   "metadata": {
    "slideshow": {
     "slide_type": "slide"
    }
   },
   "source": [
    "## Introduction to AsyncIO"
   ]
  },
  {
   "cell_type": "markdown",
   "metadata": {
    "slideshow": {
     "slide_type": "subslide"
    }
   },
   "source": [
    "AsyncIO\n",
    "-------\n",
    "\n",
    "* Module for writing async code with high concurrency\n",
    "* Infrastructure for writing single-threaded concurrent code using coroutines\n",
    "* Runs on Python 3.3+, backport to Py2 available\n",
    "* Details in another notebook..."
   ]
  },
  {
   "cell_type": "markdown",
   "metadata": {
    "slideshow": {
     "slide_type": "subslide"
    }
   },
   "source": [
    "### Delays due to processing time\n",
    "\n",
    "<img src=\"images/delayed_async_requests-1.png\" width=\"370px\">"
   ]
  },
  {
   "cell_type": "markdown",
   "metadata": {
    "slideshow": {
     "slide_type": "subslide"
    }
   },
   "source": [
    "### Can be even worse\n",
    "\n",
    "<img src=\"images/delayed_async_requests-2.png\" width=\"370px\">"
   ]
  },
  {
   "cell_type": "markdown",
   "metadata": {
    "slideshow": {
     "slide_type": "subslide"
    }
   },
   "source": [
    "### Cutting processing time\n",
    "\n",
    "<img src=\"images/delayed_async_requests-3.png\" width=\"370px\">"
   ]
  },
  {
   "cell_type": "markdown",
   "metadata": {
    "slideshow": {
     "slide_type": "slide"
    }
   },
   "source": [
    "## Faster processing reduces latency in I/O applications\n",
    "\n",
    "* IOLoop runs in one thread\n",
    "* Only one task runs at any given moment\n",
    "* No I/O while processing\n",
    "* The faster we process each task, the quicker we respond to others"
   ]
  },
  {
   "cell_type": "markdown",
   "metadata": {
    "slideshow": {
     "slide_type": "slide"
    }
   },
   "source": [
    "Cython\n",
    "------\n",
    "\n",
    "* Most widely used static Python compiler\n",
    "* Major part of Scientific Python ecosystem\n",
    "* Outputs C code using the CPython C-API\n",
    "* Extends Python language for optimisation and C/C++ interaction\n",
    "* Open-source: cython.org / github"
   ]
  },
  {
   "cell_type": "markdown",
   "metadata": {
    "slideshow": {
     "slide_type": "subslide"
    }
   },
   "source": [
    "### Features:\n",
    "* freely mix Python and C/C++\n",
    "* benefit from static code optimisation\n",
    "* wide range of manual tuning capabilities\n",
    "* highly portable, supports CPython 2.6 - 3.6+"
   ]
  },
  {
   "cell_type": "markdown",
   "metadata": {
    "slideshow": {
     "slide_type": "subslide"
    }
   },
   "source": [
    "-  Cython syntax generally follows Python 2.7\n",
    "\n",
    "   -  plus all from Py3 that doesn't conflict\n",
    "\n",
    "-  Switch to full Python 3 syntax/semantics by directive:\n",
    "\n",
    "   `# cython: language_level=3`\n",
    "\n",
    "-  Supports PEP 492 coroutines with async/await\n",
    "\n",
    "   -  slower in Py2.6/7 than in Py3"
   ]
  },
  {
   "cell_type": "markdown",
   "metadata": {
    "slideshow": {
     "slide_type": "slide"
    }
   },
   "source": [
    "## Cython in 10 Minutes"
   ]
  },
  {
   "cell_type": "markdown",
   "metadata": {
    "slideshow": {
     "slide_type": "subslide"
    }
   },
   "source": [
    "# Async Cython Coroutines with Python 3.5"
   ]
  },
  {
   "cell_type": "code",
   "execution_count": null,
   "metadata": {
    "collapsed": false,
    "slideshow": {
     "slide_type": "fragment"
    }
   },
   "outputs": [],
   "source": [
    "%load_ext cython"
   ]
  },
  {
   "cell_type": "code",
   "execution_count": null,
   "metadata": {
    "collapsed": false,
    "slideshow": {
     "slide_type": "-"
    }
   },
   "outputs": [],
   "source": [
    "import asyncio"
   ]
  },
  {
   "cell_type": "code",
   "execution_count": null,
   "metadata": {
    "collapsed": false,
    "slideshow": {
     "slide_type": "fragment"
    }
   },
   "outputs": [],
   "source": [
    "def run_async(coro):\n",
    "    loop = asyncio.get_event_loop()\n",
    "    result = loop.run_until_complete(coro)\n",
    "    return result"
   ]
  },
  {
   "cell_type": "markdown",
   "metadata": {
    "slideshow": {
     "slide_type": "slide"
    }
   },
   "source": [
    "## Cython coroutines are fully compatible with asyncio and Python coroutines"
   ]
  },
  {
   "cell_type": "code",
   "execution_count": null,
   "metadata": {
    "collapsed": false,
    "slideshow": {
     "slide_type": "fragment"
    }
   },
   "outputs": [],
   "source": [
    "%%cython\n",
    "# cython: language_level = 3\n",
    "\n",
    "async def add_one(fut):\n",
    "    result = await fut\n",
    "    print(\"Cy-ADD:\", result)\n",
    "    return result + 1\n",
    "\n",
    "async def one():\n",
    "    return 1"
   ]
  },
  {
   "cell_type": "code",
   "execution_count": null,
   "metadata": {
    "collapsed": false,
    "slideshow": {
     "slide_type": "fragment"
    }
   },
   "outputs": [],
   "source": [
    "run_async(add_one(add_one(one())))"
   ]
  },
  {
   "cell_type": "code",
   "execution_count": null,
   "metadata": {
    "collapsed": true,
    "slideshow": {
     "slide_type": "subslide"
    }
   },
   "outputs": [],
   "source": [
    "async def py_add_one(fut):\n",
    "    result = await fut\n",
    "    print(\"Py-ADD:\", result)\n",
    "    return result + 1"
   ]
  },
  {
   "cell_type": "code",
   "execution_count": null,
   "metadata": {
    "collapsed": false,
    "slideshow": {
     "slide_type": "fragment"
    }
   },
   "outputs": [],
   "source": [
    "run_async(add_one(py_add_one(one())))"
   ]
  },
  {
   "cell_type": "markdown",
   "metadata": {
    "slideshow": {
     "slide_type": "slide"
    }
   },
   "source": [
    "## Let's play some ping-pong\n",
    "-  one async Python function prints \"ping\"\n",
    "-  one async Cython function prints \"pong\"\n",
    "-  jump between the two based on a counter"
   ]
  },
  {
   "cell_type": "code",
   "execution_count": null,
   "metadata": {
    "collapsed": false,
    "slideshow": {
     "slide_type": "subslide"
    }
   },
   "outputs": [],
   "source": [
    "%%cython\n",
    "\n",
    "# example coro_map: {0: cy_dec1, 1: cy_dec1}\n",
    "\n",
    "async def cy_dec1(coro_map, value, show=False):\n",
    "    if show:\n",
    "        print('pong')\n",
    "    if value > 0:\n",
    "        value = await coro_map[value % 2](coro_map, value - 1, show)\n",
    "    return value"
   ]
  },
  {
   "cell_type": "code",
   "execution_count": null,
   "metadata": {
    "collapsed": true,
    "slideshow": {
     "slide_type": "subslide"
    }
   },
   "outputs": [],
   "source": [
    "# example coro_map: {0: py_dec1, 1: py_dec1}\n",
    "\n",
    "async def py_dec1(coro_map, value, show=False):\n",
    "    if show:\n",
    "        print('ping')\n",
    "    if value > 0:\n",
    "        value = await coro_map[value % 2](coro_map, value - 1, show)\n",
    "    return value"
   ]
  },
  {
   "cell_type": "code",
   "execution_count": null,
   "metadata": {
    "collapsed": false,
    "slideshow": {
     "slide_type": "fragment"
    }
   },
   "outputs": [],
   "source": [
    "run_async(py_dec1({0: cy_dec1, 1: py_dec1}, 6, show=True))"
   ]
  },
  {
   "cell_type": "markdown",
   "metadata": {
    "slideshow": {
     "slide_type": "slide"
    }
   },
   "source": [
    "## How fast are Cython coroutines?"
   ]
  },
  {
   "cell_type": "code",
   "execution_count": null,
   "metadata": {
    "collapsed": false,
    "slideshow": {
     "slide_type": "fragment"
    }
   },
   "outputs": [],
   "source": [
    "%timeit run_async(py_dec1({0: py_dec1, 1: py_dec1}, 600)) # python-only"
   ]
  },
  {
   "cell_type": "code",
   "execution_count": null,
   "metadata": {
    "collapsed": false,
    "slideshow": {
     "slide_type": "fragment"
    }
   },
   "outputs": [],
   "source": [
    "%timeit run_async(cy_dec1({0: cy_dec1, 1: cy_dec1}, 600)) # cython-only"
   ]
  },
  {
   "cell_type": "code",
   "execution_count": null,
   "metadata": {
    "collapsed": false,
    "slideshow": {
     "slide_type": "fragment"
    }
   },
   "outputs": [],
   "source": [
    "%timeit run_async(py_dec1({0: cy_dec1, 1: py_dec1}, 600)) # alternate"
   ]
  },
  {
   "cell_type": "markdown",
   "metadata": {
    "slideshow": {
     "slide_type": "slide"
    }
   },
   "source": [
    "## Fizz-Buzz example"
   ]
  },
  {
   "cell_type": "markdown",
   "metadata": {
    "slideshow": {
     "slide_type": "slide"
    }
   },
   "source": [
    "# Practical Example: Decryption Server"
   ]
  },
  {
   "cell_type": "markdown",
   "metadata": {
    "slideshow": {
     "slide_type": "subslide"
    }
   },
   "source": [
    "### Simple setup where client sends encrypted data stream to the server\n",
    "\n",
    "![Alt text](http://i.imgur.com/8NB5zVe.jpg)"
   ]
  },
  {
   "cell_type": "markdown",
   "metadata": {
    "slideshow": {
     "slide_type": "subslide"
    }
   },
   "source": [
    "## _Decryption Server: code_\n",
    "_(another notebook)_"
   ]
  },
  {
   "cell_type": "markdown",
   "metadata": {},
   "source": [
    "## Thank you!\n",
    "\n",
    "### Questions?\n",
    "\n",
    "_Stefan: stb@skoobe.de, Anton: ac@skoobe.de_"
   ]
  },
  {
   "cell_type": "code",
   "execution_count": null,
   "metadata": {
    "collapsed": true
   },
   "outputs": [],
   "source": []
  }
 ],
 "metadata": {
  "celltoolbar": "Slideshow",
  "kernelspec": {
   "display_name": "Python 3",
   "language": "python",
   "name": "python3"
  },
  "language_info": {
   "codemirror_mode": {
    "name": "ipython",
    "version": 3
   },
   "file_extension": ".py",
   "mimetype": "text/x-python",
   "name": "python",
   "nbconvert_exporter": "python",
   "pygments_lexer": "ipython3",
   "version": "3.5.2+"
  }
 },
 "nbformat": 4,
 "nbformat_minor": 0
}
