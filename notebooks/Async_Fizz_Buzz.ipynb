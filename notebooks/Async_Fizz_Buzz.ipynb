{
 "cells": [
  {
   "cell_type": "code",
   "execution_count": null,
   "metadata": {
    "collapsed": true
   },
   "outputs": [],
   "source": [
    "%load_ext cython"
   ]
  },
  {
   "cell_type": "code",
   "execution_count": null,
   "metadata": {
    "collapsed": true
   },
   "outputs": [],
   "source": [
    "import asyncio"
   ]
  },
  {
   "cell_type": "code",
   "execution_count": null,
   "metadata": {
    "collapsed": true
   },
   "outputs": [],
   "source": [
    "def run_async(coro):\n",
    "    loop = asyncio.get_event_loop()\n",
    "    result = loop.run_until_complete(coro)\n",
    "    return result"
   ]
  },
  {
   "cell_type": "code",
   "execution_count": null,
   "metadata": {
    "collapsed": true
   },
   "outputs": [],
   "source": [
    "from array import array\n",
    "\n",
    "async def int_fizz_buzz(stream, callback=None):\n",
    "    rest = b''\n",
    "    avalues = array('i')\n",
    "    async for data in stream:\n",
    "        if rest:\n",
    "            data = rest + data\n",
    "            rest = b''\n",
    "\n",
    "        remainder = len(data) % 4\n",
    "        if remainder:\n",
    "            rest, data = data[-remainder:], data[:-remainder]\n",
    "        avalues.frombytes(data)\n",
    "\n",
    "        new_values = []\n",
    "        for value in avalues:\n",
    "            new_values.append(\n",
    "                'fizzbuzz' if value % 15 == 0\n",
    "                else 'fizz' if value % 3 == 0\n",
    "                else 'buzz' if value % 5 == 0\n",
    "                else value\n",
    "            )\n",
    "        if avalues and callback is not None:\n",
    "            callback(new_values)\n",
    "        del avalues[:]\n"
   ]
  },
  {
   "cell_type": "code",
   "execution_count": null,
   "metadata": {
    "collapsed": false
   },
   "outputs": [],
   "source": [
    "%%cython -3 -a\n",
    "\n",
    "cdef int chars_to_int(unsigned char* data):\n",
    "    return (<int*>data)[0]  # TODO: byte order mapping :)\n",
    "\n",
    "async def cint_fizz_buzz(stream, callback=None):\n",
    "    cdef bytes data, rest = b''\n",
    "    cdef Py_ssize_t i, remainder\n",
    "    cdef unsigned char* c_data\n",
    "    cdef int value\n",
    "    assert sizeof(int) == 4\n",
    "\n",
    "    async for data in stream:\n",
    "        if rest:\n",
    "            data = rest + data\n",
    "            rest = b''\n",
    "\n",
    "        c_data = data\n",
    "        new_values = []\n",
    "        for i in range(0, len(data) - 3, 4):\n",
    "            value = chars_to_int(c_data + i)\n",
    "            if value < 1:\n",
    "                continue\n",
    "            new_values.append(\n",
    "                'fizzbuzz' if value % 15 == 0\n",
    "                else 'fizz' if value % 3 == 0\n",
    "                else 'buzz' if value % 5 == 0\n",
    "                else value\n",
    "            )\n",
    "        if new_values and callback is not None:\n",
    "            callback(new_values)\n",
    "\n",
    "        remainder = len(data) % 4\n",
    "        if remainder:\n",
    "            rest = data[-remainder:]\n"
   ]
  },
  {
   "cell_type": "code",
   "execution_count": null,
   "metadata": {
    "collapsed": true
   },
   "outputs": [],
   "source": [
    "def as_chunks(data, chunk_size=1024):\n",
    "    for pos in range(0, len(data), chunk_size):\n",
    "        yield data[pos: pos+chunk_size]\n",
    "\n",
    "class DataIter:\n",
    "    def __init__(self, chunks):\n",
    "        self._data = iter(chunks)\n",
    "    def __aiter__(self):  # NOTE: used to be \"async def\" in Py3.5.0, changed in Python 3.5.1 / Cython 0.24.1\n",
    "        return self\n",
    "    async def __anext__(self):\n",
    "        try:\n",
    "            return next(self._data)\n",
    "        except StopIteration:\n",
    "            raise StopAsyncIteration"
   ]
  },
  {
   "cell_type": "code",
   "execution_count": null,
   "metadata": {
    "collapsed": true
   },
   "outputs": [],
   "source": [
    "expected_18 = [1, 2, 'fizz', 4, 'buzz', 'fizz', 7, 8, 'fizz', 'buzz', 11, 'fizz', 13, 14, 'fizzbuzz', 16, 17, 'fizz']\n",
    "\n",
    "from array import array\n",
    "data = array('i', range(1, 19)).tobytes()\n",
    "chunks_of_4 = list(as_chunks(data, chunk_size=4))\n",
    "chunks_of_20 = list(as_chunks(data, chunk_size=20))\n",
    "chunks_of_23 = list(as_chunks(data, chunk_size=23))"
   ]
  },
  {
   "cell_type": "code",
   "execution_count": null,
   "metadata": {
    "collapsed": false
   },
   "outputs": [],
   "source": [
    "result = []\n",
    "run_async(cint_fizz_buzz(DataIter(chunks_of_4[:6]), callback=result.extend))\n",
    "print(result)"
   ]
  },
  {
   "cell_type": "code",
   "execution_count": null,
   "metadata": {
    "collapsed": false
   },
   "outputs": [],
   "source": [
    "result = []\n",
    "run_async(cint_fizz_buzz(DataIter(chunks_of_20), callback=result.extend))\n",
    "print(result)"
   ]
  },
  {
   "cell_type": "code",
   "execution_count": null,
   "metadata": {
    "collapsed": false
   },
   "outputs": [],
   "source": [
    "result = []\n",
    "run_async(cint_fizz_buzz(DataIter(chunks_of_23), callback=result.extend))\n",
    "print(result)"
   ]
  },
  {
   "cell_type": "code",
   "execution_count": null,
   "metadata": {
    "collapsed": false
   },
   "outputs": [],
   "source": [
    "%%timeit chunks = chunks_of_20 * 1000\n",
    "run_async(cint_fizz_buzz(DataIter(chunks), callback=id))  # Cython"
   ]
  },
  {
   "cell_type": "code",
   "execution_count": null,
   "metadata": {
    "collapsed": false
   },
   "outputs": [],
   "source": [
    "%%timeit chunks = chunks_of_20 * 1000\n",
    "run_async(int_fizz_buzz(DataIter(chunks), callback=id)) # Python"
   ]
  },
  {
   "cell_type": "code",
   "execution_count": null,
   "metadata": {
    "collapsed": false
   },
   "outputs": [],
   "source": [
    "%%timeit chunks = chunks_of_23 * 1000\n",
    "run_async(cint_fizz_buzz(DataIter(chunks), callback=id))  # Cython"
   ]
  },
  {
   "cell_type": "code",
   "execution_count": null,
   "metadata": {
    "collapsed": false
   },
   "outputs": [],
   "source": [
    "%%timeit chunks = chunks_of_23 * 1000\n",
    "run_async(int_fizz_buzz(DataIter(chunks), callback=id))  # Python"
   ]
  },
  {
   "cell_type": "code",
   "execution_count": null,
   "metadata": {
    "collapsed": true
   },
   "outputs": [],
   "source": []
  }
 ],
 "metadata": {
  "kernelspec": {
   "display_name": "Python 3",
   "language": "python",
   "name": "python3"
  },
  "language_info": {
   "codemirror_mode": {
    "name": "ipython",
    "version": 3
   },
   "file_extension": ".py",
   "mimetype": "text/x-python",
   "name": "python",
   "nbconvert_exporter": "python",
   "pygments_lexer": "ipython3",
   "version": "3.5.2+"
  }
 },
 "nbformat": 4,
 "nbformat_minor": 0
}
