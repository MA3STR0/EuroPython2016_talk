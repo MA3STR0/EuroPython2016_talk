{
 "cells": [
  {
   "cell_type": "markdown",
   "metadata": {},
   "source": [
    "# Decrypting and Decompressing a Network Stream in One Go"
   ]
  },
  {
   "cell_type": "code",
   "execution_count": null,
   "metadata": {
    "collapsed": false
   },
   "outputs": [],
   "source": [
    "%load_ext cython"
   ]
  },
  {
   "cell_type": "code",
   "execution_count": null,
   "metadata": {
    "collapsed": true
   },
   "outputs": [],
   "source": [
    "import asyncio"
   ]
  },
  {
   "cell_type": "code",
   "execution_count": null,
   "metadata": {
    "collapsed": true
   },
   "outputs": [],
   "source": [
    "def run_async(coro):\n",
    "    loop = asyncio.get_event_loop()\n",
    "    result = loop.run_until_complete(coro)\n",
    "    return result"
   ]
  },
  {
   "cell_type": "code",
   "execution_count": null,
   "metadata": {
    "collapsed": false
   },
   "outputs": [],
   "source": [
    "import os\n",
    "import zlib\n",
    "import hashlib\n",
    "from cryptography.hazmat.primitives.ciphers import Cipher, algorithms, modes\n",
    "from cryptography.hazmat.backends import default_backend\n",
    "backend = default_backend()\n",
    "\n",
    "async def py_unpack(stream, receive_callback, key, iv, tag=None, decompress=True):\n",
    "    cipher = Cipher(algorithms.AES(key), modes.GCM(iv, tag), backend=backend)\n",
    "    decryptor = cipher.decryptor()\n",
    "    decrypt = decryptor.update\n",
    "\n",
    "    if not decompress:\n",
    "        # really simple case\n",
    "        async for data in stream:\n",
    "            receive_callback(decrypt(data))\n",
    "        rest = decryptor.finalize()\n",
    "    else:\n",
    "        decompressor = zlib.decompressobj()\n",
    "        decompress = decompressor.decompress\n",
    "\n",
    "        async for data in stream:\n",
    "            receive_callback(decompress(decrypt(data)))\n",
    "\n",
    "        rest = decompress(decryptor.finalize())\n",
    "        if rest:\n",
    "            receive_callback(rest)\n",
    "        rest = decompressor.flush()\n",
    "\n",
    "    if rest:\n",
    "        receive_callback(rest)"
   ]
  },
  {
   "cell_type": "code",
   "execution_count": null,
   "metadata": {
    "collapsed": true
   },
   "outputs": [],
   "source": [
    "%%cython -3 -a\n",
    "## COPY PYTHON CODE FROM ABOVE"
   ]
  },
  {
   "cell_type": "code",
   "execution_count": null,
   "metadata": {
    "collapsed": true
   },
   "outputs": [],
   "source": [
    "# distutils: library_dirs=['/usr/local/Cellar/openssl/1.0.2h/lib']\n",
    "# distutils: include_dirs=['/usr/local/Cellar/openssl/1.0.2h/include']"
   ]
  },
  {
   "cell_type": "code",
   "execution_count": null,
   "metadata": {
    "collapsed": false
   },
   "outputs": [],
   "source": [
    "%%cython\n",
    "# cython: c_string_encoding=ascii\n",
    "# cython: language_level=3\n",
    "# cython: profile=True\n",
    "# cython: binding=True\n",
    "# distutils: libraries=['ssl', 'crypto', 'z']\n",
    "# distutils: library_dirs=['/usr/local/Cellar/openssl/1.0.2h/lib']\n",
    "# distutils: include_dirs=['/usr/local/Cellar/openssl/1.0.2h/include']\n",
    "\n",
    "DEF CHUNK_SIZE = 2048\n",
    "DEF COMP_BUFFER_SIZE = CHUNK_SIZE * 10\n",
    "\n",
    "from libc.string cimport memset\n",
    "from cpython.mem cimport PyMem_Malloc, PyMem_Free\n",
    "\n",
    "\n",
    "### openssl declarations\n",
    "\n",
    "cdef extern from \"openssl/evp.h\" nogil:\n",
    "    ctypedef struct EVP_CIPHER_CTX\n",
    "    ctypedef struct EVP_CIPHER\n",
    "    ctypedef struct ENGINE\n",
    "    enum:\n",
    "        EVP_CTRL_GCM_SET_TAG\n",
    "        EVP_CTRL_GCM_SET_IVLEN\n",
    "\n",
    "    void OpenSSL_add_all_algorithms()\n",
    "\n",
    "    const EVP_CIPHER* EVP_aes_256_gcm()\n",
    "    EVP_CIPHER_CTX* EVP_CIPHER_CTX_new()\n",
    "    void EVP_CIPHER_CTX_free(EVP_CIPHER_CTX *a)\n",
    "    int EVP_CIPHER_CTX_ctrl(EVP_CIPHER_CTX *ctx, int type, int arg, void *ptr)\n",
    "\n",
    "    int EVP_DecryptInit_ex(EVP_CIPHER_CTX *ctx, const EVP_CIPHER *cipher, ENGINE *impl,\n",
    "        const unsigned char *key, const unsigned char *iv)\n",
    "    int EVP_DecryptUpdate(EVP_CIPHER_CTX *ctx, unsigned char *out,\n",
    "        int *outl, const unsigned char *inptr, int inl)\n",
    "    int EVP_DecryptFinal(EVP_CIPHER_CTX *ctx, unsigned char *outm, int *outl)\n",
    "    int EVP_DecryptFinal_ex(EVP_CIPHER_CTX *ctx, unsigned char *outm, int *outl)\n",
    "\n",
    "\n",
    "### zlib declarations\n",
    "\n",
    "cdef extern from \"zlib.h\":\n",
    "    ctypedef struct z_stream:\n",
    "        unsigned char    *next_in;  #/* next input byte */\n",
    "        unsigned int     avail_in;  #/* number of bytes available at next_in */\n",
    "        unsigned long    total_in;  #/* total number of input bytes read so far */\n",
    "\n",
    "        unsigned char    *next_out; #/* next output byte should be put there */\n",
    "        unsigned int     avail_out; #/* remaining free space at next_out */\n",
    "        unsigned long    total_out; #/* total number of bytes output so far */\n",
    "\n",
    "        const char *msg;    #/* last error message, NULL if no error */\n",
    "\n",
    "        int     data_type;  #/* best guess about the data type: binary or text */\n",
    "        unsigned long   adler;      #/* adler32 value of the uncompressed data */\n",
    "\n",
    "    enum:\n",
    "        Z_SYNC_FLUSH\n",
    "        Z_NO_FLUSH\n",
    "        Z_OK\n",
    "        Z_STREAM_END\n",
    "    int inflateInit(z_stream* strm)\n",
    "    int inflate(z_stream* strm, int flush)\n",
    "    int inflateEnd(z_stream* strm)\n",
    "\n",
    "\n",
    "### decryption setup helper\n",
    "\n",
    "cdef int init_decryption(EVP_CIPHER_CTX **_ctx,\n",
    "                         bytes key, bytes iv, bytes aad=None) except -1:\n",
    "    cdef int offset = 0\n",
    "\n",
    "    # Create and initialise the context\n",
    "    cdef EVP_CIPHER_CTX *ctx = EVP_CIPHER_CTX_new()\n",
    "    _ctx[0] = ctx\n",
    "    if not ctx:\n",
    "        raise MemoryError()\n",
    "\n",
    "    try:\n",
    "        # Initialise the decryption operation.\n",
    "        if not EVP_DecryptInit_ex(ctx, EVP_aes_256_gcm(), NULL, NULL, NULL):\n",
    "            raise RuntimeError()\n",
    "        # Set IV length. Not necessary if this is 12 bytes (96 bits)\n",
    "        if not EVP_CIPHER_CTX_ctrl(ctx, EVP_CTRL_GCM_SET_IVLEN, 16, NULL):\n",
    "            raise RuntimeError()\n",
    "        # Initialise key and IV\n",
    "        if not EVP_DecryptInit_ex(ctx, NULL, NULL, key, iv):\n",
    "            raise RuntimeError()\n",
    "        # Provide any AAD data. This can be called zero or more times as required\n",
    "        if aad:\n",
    "            if not EVP_DecryptUpdate(ctx, NULL, &offset, aad, len(aad)):\n",
    "                raise RuntimeError()\n",
    "    except:\n",
    "        EVP_CIPHER_CTX_free(ctx)\n",
    "        _ctx[0] = NULL\n",
    "        raise\n",
    "\n",
    "    assert offset >= 0\n",
    "    return offset\n",
    "\n",
    "\n",
    "### decompression helper\n",
    "\n",
    "cdef int decompress_chunk(z_stream *zstream, unsigned char *in_buffer,\n",
    "                          unsigned char* out_buffer, receive_callback,\n",
    "                          int in_length, int out_length) except -1:\n",
    "    zstream.next_in = in_buffer\n",
    "    zstream.avail_in = in_length\n",
    "\n",
    "    zstream.avail_out = 0\n",
    "    while zstream.avail_out == 0:\n",
    "        zstream.next_out = out_buffer\n",
    "        zstream.avail_out = out_length\n",
    "        ret = inflate(zstream, Z_SYNC_FLUSH)\n",
    "        if ret != Z_OK and ret != Z_STREAM_END:\n",
    "            raise RuntimeError(\"Decompression failed with error %s: %s\" % (\n",
    "                ret, (zstream.msg.decode('utf8') if zstream.msg is not NULL else 'unknown error')))\n",
    "        # pass decompressed data on to receiver\n",
    "        receive_callback(out_buffer[:out_length - zstream.avail_out])\n",
    "\n",
    "\n",
    "# global OpenSSL init at module load time\n",
    "OpenSSL_add_all_algorithms()\n",
    "\n",
    "\n",
    "### coroutine to decrypt + decompress\n",
    "\n",
    "async def cy_unpack(stream, receive_callback, bytes key, bytes iv, bytes tag=None, bint decompress=True):\n",
    "    cdef EVP_CIPHER_CTX *ctx = NULL;\n",
    "    cdef int length, plaintext_len = 0;\n",
    "    cdef Py_ssize_t data_length, n\n",
    "    cdef bytes data\n",
    "    cdef z_stream zstream\n",
    "    cdef unsigned char *c_data\n",
    "    cdef unsigned char *mem_buffers = NULL\n",
    "    cdef unsigned char *aes_buffer\n",
    "    cdef unsigned char *zlib_buffer\n",
    "\n",
    "    memset(&zstream, 0, sizeof(zstream))\n",
    "    length = init_decryption(&ctx, key, iv)\n",
    "    try:\n",
    "        mem_buffers = <unsigned char*>PyMem_Malloc(COMP_BUFFER_SIZE + CHUNK_SIZE + 32)\n",
    "        if not mem_buffers:\n",
    "            raise MemoryError()\n",
    "        zlib_buffer = mem_buffers\n",
    "        aes_buffer = mem_buffers + COMP_BUFFER_SIZE\n",
    "\n",
    "        assert length == 0  # not using AAD\n",
    "        if decompress and inflateInit(&zstream) != Z_OK:\n",
    "            raise MemoryError()\n",
    "\n",
    "        # process stream one chunk at a time\n",
    "        async for data in stream:\n",
    "\n",
    "            # decrypt data in CHUNK_SIZE bytes chunks\n",
    "            data_length = len(data)\n",
    "            c_data = data\n",
    "\n",
    "            while data_length > 0:\n",
    "                length = 0\n",
    "                # decrypt\n",
    "                if not EVP_DecryptUpdate(\n",
    "                        ctx, aes_buffer, &length, c_data,\n",
    "                        CHUNK_SIZE if data_length > CHUNK_SIZE else data_length):\n",
    "                    raise RuntimeError(\"Decryption failed: chunk\")\n",
    "                c_data += CHUNK_SIZE\n",
    "                data_length -= CHUNK_SIZE\n",
    "                if decompress:\n",
    "                    decompress_chunk(&zstream, aes_buffer, zlib_buffer, receive_callback, length, COMP_BUFFER_SIZE)\n",
    "                else:\n",
    "                    receive_callback(aes_buffer[:length])\n",
    "\n",
    "        if tag:\n",
    "            if not EVP_CIPHER_CTX_ctrl(\n",
    "                    ctx, EVP_CTRL_GCM_SET_TAG, 16, <char*>tag):\n",
    "                raise RuntimeError(\"Decryption failed: tag\")\n",
    "        length = 0\n",
    "        ret = EVP_DecryptFinal_ex(ctx, aes_buffer, &length)\n",
    "        if ret < 0:\n",
    "            raise RuntimeError(\"Decryption failed: final\")\n",
    "\n",
    "        if length > 0:\n",
    "            if decompress:\n",
    "                # decompress final chunk\n",
    "                decompress_chunk(\n",
    "                    &zstream, aes_buffer, zlib_buffer, receive_callback, length, COMP_BUFFER_SIZE)\n",
    "            else:\n",
    "                receive_callback(aes_buffer[:length])\n",
    "\n",
    "    finally:\n",
    "        if decompress:\n",
    "            inflateEnd(&zstream)\n",
    "        EVP_CIPHER_CTX_free(ctx)\n",
    "        PyMem_Free(mem_buffers)\n"
   ]
  },
  {
   "cell_type": "code",
   "execution_count": null,
   "metadata": {
    "collapsed": false
   },
   "outputs": [],
   "source": [
    "# generate encrypted data\n",
    "import os\n",
    "import zlib\n",
    "import hashlib\n",
    "from cryptography.hazmat.primitives.ciphers import Cipher, algorithms, modes\n",
    "from cryptography.hazmat.backends import default_backend\n",
    "backend = default_backend()\n",
    "\n",
    "key = os.urandom(32)\n",
    "iv = os.urandom(16)\n",
    "cipher = Cipher(algorithms.AES(key), modes.GCM(iv), backend=backend)\n",
    "\n",
    "message = b''.join(os.urandom(17) * 11 for _ in range(56789))\n",
    "\n",
    "encryptor = cipher.encryptor()\n",
    "ct = encryptor.update(zlib.compress(message, 9)) + encryptor.finalize()\n",
    "c_enc_tag = encryptor.tag\n",
    "\n",
    "encryptor = cipher.encryptor()\n",
    "et = encryptor.update(message) + encryptor.finalize()\n",
    "e_enc_tag = encryptor.tag\n",
    "\n",
    "print(\"Input message length:\", len(message))\n",
    "print(\"Input message MD5sum:\", hashlib.md5(message).hexdigest())\n",
    "print(\"Crypto message length:\", len(et))\n",
    "print(\"Compressed crypto message length:\", len(ct))"
   ]
  },
  {
   "cell_type": "code",
   "execution_count": null,
   "metadata": {
    "collapsed": false
   },
   "outputs": [],
   "source": [
    "# statistics\n",
    "import hashlib\n",
    "from collections import Counter\n",
    "\n",
    "def chunk_counter():\n",
    "    sizes = Counter()\n",
    "    md5 = hashlib.md5()\n",
    "    update_hash = md5.update\n",
    "\n",
    "    def count_chunk(chunk):\n",
    "        sizes[len(chunk)] += 1\n",
    "        update_hash(chunk)\n",
    "\n",
    "    def report():\n",
    "        size_sum = sum(k*v for k, v in sizes.items())\n",
    "        chunk_count = sum(sizes.values())\n",
    "        print(\"Output message chunks:\", chunk_count)\n",
    "        print(\"Output message length:\", size_sum)\n",
    "        print(\"Average size per chunk:\", size_sum // chunk_count)\n",
    "        print(\"Chunk size distribution:\", ', '.join('%d x %d B' % t[::-1] for t in sizes.most_common(6)))\n",
    "        print(\"Output message MD5sum:\", md5.hexdigest())\n",
    "\n",
    "    return count_chunk, report"
   ]
  },
  {
   "cell_type": "code",
   "execution_count": null,
   "metadata": {
    "collapsed": true
   },
   "outputs": [],
   "source": [
    "def as_chunks(data, chunk_size=1024):\n",
    "    for pos in range(0, len(data), chunk_size):\n",
    "        yield data[pos: pos+chunk_size]\n",
    "\n",
    "class DataIter:\n",
    "    def __init__(self, chunks):\n",
    "        self._data = iter(chunks)\n",
    "\n",
    "    def __aiter__(self):\n",
    "        # NOTE: used to be \"async def\" in Py3.5.0, changed in Python 3.5.2 / Cython 0.24.1\n",
    "        return self\n",
    "\n",
    "    async def __anext__(self):\n",
    "        try:\n",
    "            return next(self._data)\n",
    "        except StopIteration:\n",
    "            raise StopAsyncIteration"
   ]
  },
  {
   "cell_type": "code",
   "execution_count": null,
   "metadata": {
    "collapsed": false
   },
   "outputs": [],
   "source": [
    "c_chunks = list(as_chunks(ct, chunk_size=512))\n",
    "print(\"Compressed input chunks:\", len(c_chunks))\n",
    "e_chunks = list(as_chunks(et, chunk_size=1024))\n",
    "print(\"Uncompressed input chunks:\", len(e_chunks))"
   ]
  },
  {
   "cell_type": "code",
   "execution_count": null,
   "metadata": {
    "collapsed": false
   },
   "outputs": [],
   "source": [
    "print(\"Compressed input length:\", len(ct))\n",
    "count_chunk, report = chunk_counter()\n",
    "run_async(cy_unpack(DataIter(c_chunks), count_chunk, key, iv, c_enc_tag, decompress=True))\n",
    "report()"
   ]
  },
  {
   "cell_type": "code",
   "execution_count": null,
   "metadata": {
    "collapsed": false
   },
   "outputs": [],
   "source": [
    "print(\"Compressed input length:\", len(ct))\n",
    "count_chunk, finalize = chunk_counter()\n",
    "run_async(py_unpack(DataIter(c_chunks), count_chunk, key, iv, c_enc_tag, decompress=True))\n",
    "report()"
   ]
  },
  {
   "cell_type": "code",
   "execution_count": null,
   "metadata": {
    "collapsed": false
   },
   "outputs": [],
   "source": [
    "print(\"Compressed input length:\", len(et))\n",
    "count_chunk, report = chunk_counter()\n",
    "run_async(cy_unpack(DataIter(e_chunks), count_chunk, key, iv, e_enc_tag, decompress=False))\n",
    "report()"
   ]
  },
  {
   "cell_type": "code",
   "execution_count": null,
   "metadata": {
    "collapsed": false
   },
   "outputs": [],
   "source": [
    "print(\"Compressed input length:\", len(et))\n",
    "count_chunk, report = chunk_counter()\n",
    "run_async(py_unpack(DataIter(e_chunks), count_chunk, key, iv, e_enc_tag, decompress=False))\n",
    "report()"
   ]
  },
  {
   "cell_type": "code",
   "execution_count": null,
   "metadata": {
    "collapsed": false
   },
   "outputs": [],
   "source": [
    "%timeit run_async(py_unpack(DataIter(e_chunks), len, key, iv, e_enc_tag, decompress=False))"
   ]
  },
  {
   "cell_type": "code",
   "execution_count": null,
   "metadata": {
    "collapsed": false
   },
   "outputs": [],
   "source": [
    "%timeit run_async(cy_unpack(DataIter(e_chunks), len, key, iv, e_enc_tag, decompress=False))"
   ]
  },
  {
   "cell_type": "code",
   "execution_count": null,
   "metadata": {
    "collapsed": false
   },
   "outputs": [],
   "source": [
    "19.6 / 66.5"
   ]
  },
  {
   "cell_type": "code",
   "execution_count": null,
   "metadata": {
    "collapsed": false
   },
   "outputs": [],
   "source": [
    "%timeit run_async(py_unpack(DataIter(c_chunks), len, key, iv, c_enc_tag, decompress=True))"
   ]
  },
  {
   "cell_type": "code",
   "execution_count": null,
   "metadata": {
    "collapsed": false
   },
   "outputs": [],
   "source": [
    "%timeit run_async(cy_unpack(DataIter(c_chunks), len, key, iv, c_enc_tag, decompress=True))"
   ]
  },
  {
   "cell_type": "code",
   "execution_count": null,
   "metadata": {
    "collapsed": false
   },
   "outputs": [],
   "source": [
    "16.2/28.1"
   ]
  },
  {
   "cell_type": "code",
   "execution_count": null,
   "metadata": {
    "collapsed": false
   },
   "outputs": [],
   "source": [
    "%%prun -s time\n",
    "run_async(cy_unpack(DataIter(e_chunks), len, key, iv, e_enc_tag, decompress=False))"
   ]
  },
  {
   "cell_type": "code",
   "execution_count": null,
   "metadata": {
    "collapsed": false
   },
   "outputs": [],
   "source": [
    "%%prun -s time\n",
    "run_async(py_unpack(DataIter(e_chunks), len, key, iv, e_enc_tag, decompress=False))"
   ]
  },
  {
   "cell_type": "code",
   "execution_count": null,
   "metadata": {
    "collapsed": true
   },
   "outputs": [],
   "source": []
  }
 ],
 "metadata": {
  "kernelspec": {
   "display_name": "Python 3",
   "language": "python",
   "name": "python3"
  },
  "language_info": {
   "codemirror_mode": {
    "name": "ipython",
    "version": 3
   },
   "file_extension": ".py",
   "mimetype": "text/x-python",
   "name": "python",
   "nbconvert_exporter": "python",
   "pygments_lexer": "ipython3",
   "version": "3.5.2+"
  }
 },
 "nbformat": 4,
 "nbformat_minor": 0
}
